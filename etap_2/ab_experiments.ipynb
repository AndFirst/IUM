{
 "cells": [
  {
   "cell_type": "code",
   "execution_count": 40,
   "metadata": {},
   "outputs": [],
   "source": [
    "import pandas as pd\n",
    "import config\n",
    "import numpy as np\n",
    "from requests import post\n",
    "import json\n",
    "from utils import t_student_test\n",
    "from config import AB_DIVIDE_MONTH, FEATURES, TARGET"
   ]
  },
  {
   "cell_type": "code",
   "execution_count": 31,
   "metadata": {},
   "outputs": [],
   "source": [
    "data = pd.read_csv('../data/final_data_filtered.csv', index_col='Unnamed: 0')\n",
    "data = data.dropna()"
   ]
  },
  {
   "cell_type": "code",
   "execution_count": 32,
   "metadata": {},
   "outputs": [],
   "source": [
    "data_ab = data.loc[data['month'] >= AB_DIVIDE_MONTH]"
   ]
  },
  {
   "cell_type": "code",
   "execution_count": 33,
   "metadata": {},
   "outputs": [
    {
     "data": {
      "text/plain": [
       "<Response [200]>"
      ]
     },
     "execution_count": 33,
     "metadata": {},
     "output_type": "execute_result"
    }
   ],
   "source": [
    "API_URL = 'http://127.0.0.1:8000/'\n",
    "post(API_URL + 'reset/')"
   ]
  },
  {
   "cell_type": "code",
   "execution_count": 34,
   "metadata": {},
   "outputs": [],
   "source": [
    "X = data_ab[FEATURES + ['user_id']]\n",
    "y = data_ab[TARGET]\n",
    "\n",
    "y = y.rename(columns=({'premium_purchased': 'true_premium_purchased',\n",
    "                       'premium_purchased_this_month': 'true_premium_purchased_this_month'}))"
   ]
  },
  {
   "cell_type": "code",
   "execution_count": 35,
   "metadata": {},
   "outputs": [],
   "source": [
    "for index, row in X.iterrows():\n",
    "    response = post(API_URL + 'ab/', row.to_json())"
   ]
  },
  {
   "cell_type": "markdown",
   "metadata": {},
   "source": [
    "# Wykonano eksperymenty, łączymy dane z serwera z prawdziwymi danymi."
   ]
  },
  {
   "cell_type": "code",
   "execution_count": 37,
   "metadata": {},
   "outputs": [],
   "source": [
    "ab_results = pd.read_csv('../microservice/ab_results.csv')\n",
    "nn_results = ab_results.loc[ab_results['model'] == 'nn']\n",
    "lr_results = ab_results.loc[ab_results['model'] == 'lr']"
   ]
  },
  {
   "cell_type": "code",
   "execution_count": 45,
   "metadata": {},
   "outputs": [
    {
     "name": "stdout",
     "output_type": "stream",
     "text": [
      "T-statistic: 138.98581719813018\n",
      "P-value: 0.0\n",
      "Odrzucamy hipotezę zerową. Istnieje istotna różnica między grupami.\n",
      "Grupa A jest lepsza niż grupa B.\n"
     ]
    }
   ],
   "source": [
    "group_a = nn_results['premium_purchased']\n",
    "group_b = lr_results['premium_purchased']\n",
    "\n",
    "t_student_test(group_a, group_b)"
   ]
  },
  {
   "cell_type": "code",
   "execution_count": 46,
   "metadata": {},
   "outputs": [
    {
     "name": "stdout",
     "output_type": "stream",
     "text": [
      "T-statistic: -138.92225086705102\n",
      "P-value: 0.0\n",
      "Odrzucamy hipotezę zerową. Istnieje istotna różnica między grupami.\n",
      "Grupa B jest lepsza niż grupa A.\n"
     ]
    }
   ],
   "source": [
    "group_a = nn_results['premium_purchased_this_month']\n",
    "group_b = lr_results['premium_purchased_this_month']\n",
    "\n",
    "t_student_test(group_a, group_b)"
   ]
  },
  {
   "cell_type": "code",
   "execution_count": null,
   "metadata": {},
   "outputs": [],
   "source": []
  }
 ],
 "metadata": {
  "kernelspec": {
   "display_name": "venv",
   "language": "python",
   "name": "python3"
  },
  "language_info": {
   "codemirror_mode": {
    "name": "ipython",
    "version": 3
   },
   "file_extension": ".py",
   "mimetype": "text/x-python",
   "name": "python",
   "nbconvert_exporter": "python",
   "pygments_lexer": "ipython3",
   "version": "3.10.12"
  }
 },
 "nbformat": 4,
 "nbformat_minor": 2
}
