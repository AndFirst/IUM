{
 "cells": [
  {
   "cell_type": "code",
   "execution_count": 6,
   "metadata": {},
   "outputs": [],
   "source": [
    "import config\n",
    "import pandas as pd\n",
    "import joblib\n",
    "import numpy as np\n",
    "from sklearn.preprocessing import StandardScaler\n",
    "from config import FEATURES, TARGET, AB_DIVIDE_MONTH, RANDOM_STATE\n",
    "from neural_network import train_neural_network\n",
    "from sklearn.preprocessing import StandardScaler\n",
    "from sklearn.linear_model import LogisticRegression"
   ]
  },
  {
   "cell_type": "code",
   "execution_count": 7,
   "metadata": {},
   "outputs": [],
   "source": [
    "data = pd.read_csv('../data/final_data_filtered.csv', index_col='Unnamed: 0')\n",
    "data = data.dropna()"
   ]
  },
  {
   "cell_type": "code",
   "execution_count": 8,
   "metadata": {},
   "outputs": [],
   "source": [
    "data_train = data.loc[data['month'] < AB_DIVIDE_MONTH]\n",
    "X = data_train[FEATURES]\n",
    "y = data_train[TARGET]"
   ]
  },
  {
   "cell_type": "code",
   "execution_count": 10,
   "metadata": {},
   "outputs": [
    {
     "name": "stdout",
     "output_type": "stream",
     "text": [
      "Epoch 1/20\n",
      "2262/2262 [==============================] - 5s 2ms/step - loss: 0.3668 - f1_score: 0.2910\n",
      "Epoch 2/20\n",
      "2262/2262 [==============================] - 3s 2ms/step - loss: 0.3553 - f1_score: 0.3468\n",
      "Epoch 3/20\n",
      "2262/2262 [==============================] - 3s 2ms/step - loss: 0.3527 - f1_score: 0.3400\n",
      "Epoch 4/20\n",
      "2262/2262 [==============================] - 3s 2ms/step - loss: 0.3511 - f1_score: 0.3216\n",
      "Epoch 5/20\n",
      "2262/2262 [==============================] - 3s 2ms/step - loss: 0.3501 - f1_score: 0.3340\n",
      "Epoch 6/20\n",
      "2262/2262 [==============================] - 3s 2ms/step - loss: 0.3493 - f1_score: 0.3241\n",
      "Epoch 7/20\n",
      "2262/2262 [==============================] - 3s 2ms/step - loss: 0.3482 - f1_score: 0.3214\n",
      "Epoch 8/20\n",
      "2262/2262 [==============================] - 3s 2ms/step - loss: 0.3478 - f1_score: 0.3198\n",
      "Epoch 9/20\n",
      "2262/2262 [==============================] - 4s 2ms/step - loss: 0.3472 - f1_score: 0.3168\n",
      "Epoch 10/20\n",
      "2262/2262 [==============================] - 4s 2ms/step - loss: 0.3468 - f1_score: 0.3135\n",
      "Epoch 11/20\n",
      "2262/2262 [==============================] - 4s 2ms/step - loss: 0.3465 - f1_score: 0.2993\n",
      "Epoch 12/20\n",
      "2262/2262 [==============================] - 3s 2ms/step - loss: 0.3463 - f1_score: 0.3018\n",
      "Epoch 13/20\n",
      "2262/2262 [==============================] - 3s 2ms/step - loss: 0.3460 - f1_score: 0.3020\n",
      "Epoch 14/20\n",
      "2262/2262 [==============================] - 4s 2ms/step - loss: 0.3458 - f1_score: 0.3064\n",
      "Epoch 15/20\n",
      "2262/2262 [==============================] - 4s 2ms/step - loss: 0.3455 - f1_score: 0.2877\n",
      "Epoch 16/20\n",
      "2262/2262 [==============================] - 4s 2ms/step - loss: 0.3450 - f1_score: 0.3037\n",
      "Epoch 17/20\n",
      "2262/2262 [==============================] - 4s 2ms/step - loss: 0.3449 - f1_score: 0.2862\n",
      "Epoch 18/20\n",
      "2262/2262 [==============================] - 4s 2ms/step - loss: 0.3447 - f1_score: 0.2860\n",
      "Epoch 19/20\n",
      "2262/2262 [==============================] - 3s 2ms/step - loss: 0.3445 - f1_score: 0.2842\n",
      "Epoch 20/20\n",
      "2262/2262 [==============================] - 3s 2ms/step - loss: 0.3443 - f1_score: 0.2884\n"
     ]
    },
    {
     "data": {
      "text/plain": [
       "['../models/scaler.joblib']"
      ]
     },
     "execution_count": 10,
     "metadata": {},
     "output_type": "execute_result"
    }
   ],
   "source": [
    "scaler = StandardScaler()\n",
    "X = scaler.fit_transform(X)\n",
    "y = np.asarray(y).astype('float32')\n",
    "\n",
    "model = train_neural_network(\n",
    "    {'alpha_list': (0.01, 0.1, 0.2), 'layer_size_list': (64, 32, 16)}, X, y)\n",
    "\n",
    "\n",
    "model.save('../models/neural_network.keras')\n",
    "joblib.dump(scaler, '../models/scaler.joblib')"
   ]
  },
  {
   "cell_type": "code",
   "execution_count": 11,
   "metadata": {},
   "outputs": [],
   "source": [
    "scaler = StandardScaler()\n",
    "X = scaler.fit_transform(X)\n",
    "\n",
    "y = np.asarray(y).astype('float32')\n",
    "\n",
    "models = {}\n",
    "for i, name in enumerate(TARGET):\n",
    "    model = LogisticRegression(random_state=RANDOM_STATE)\n",
    "    model.fit(X, y[:, i])\n",
    "    models[name] = model\n",
    "\n",
    "for name in TARGET:\n",
    "    joblib.dump(models[name], f'../models/lr_model_{name}.joblib')"
   ]
  }
 ],
 "metadata": {
  "kernelspec": {
   "display_name": "venv",
   "language": "python",
   "name": "python3"
  },
  "language_info": {
   "codemirror_mode": {
    "name": "ipython",
    "version": 3
   },
   "file_extension": ".py",
   "mimetype": "text/x-python",
   "name": "python",
   "nbconvert_exporter": "python",
   "pygments_lexer": "ipython3",
   "version": "3.10.12"
  }
 },
 "nbformat": 4,
 "nbformat_minor": 2
}
