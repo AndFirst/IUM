{
 "cells": [
  {
   "cell_type": "markdown",
   "metadata": {
    "pycharm": {
     "name": "#%%\n"
    }
   },
   "source": [
    "# Zbiór danych v3"
   ]
  },
  {
   "cell_type": "code",
   "execution_count": 3,
   "metadata": {},
   "outputs": [],
   "source": [
    "import pandas as pd\n",
    "import matplotlib.pyplot as plt\n",
    "import json"
   ]
  },
  {
   "cell_type": "code",
   "execution_count": 4,
   "metadata": {},
   "outputs": [],
   "source": [
    "def load_jsonl(file_path: str) -> pd.DataFrame:\n",
    "    with open(file_path, 'r', encoding='utf-8') as file:\n",
    "        data = [json.loads(line) for line in file]\n",
    "    return pd.DataFrame(data)"
   ]
  },
  {
   "cell_type": "code",
   "execution_count": 5,
   "metadata": {},
   "outputs": [],
   "source": [
    "DATA_DIR = '../data/v4/'"
   ]
  },
  {
   "cell_type": "code",
   "execution_count": 6,
   "metadata": {},
   "outputs": [],
   "source": [
    "artists_df = load_jsonl(DATA_DIR + 'artists.jsonl')\n",
    "tracks_df = load_jsonl(DATA_DIR + 'tracks.jsonl')\n",
    "users_df = load_jsonl(DATA_DIR + 'users.jsonl')\n",
    "sessions_df = load_jsonl(DATA_DIR + 'sessions.jsonl')\n",
    "track_storage_df = load_jsonl(DATA_DIR + 'track_storage.jsonl')"
   ]
  },
  {
   "cell_type": "markdown",
   "metadata": {},
   "source": [
    "## Tabela artists"
   ]
  },
  {
   "cell_type": "code",
   "execution_count": 7,
   "metadata": {},
   "outputs": [
    {
     "data": {
      "text/html": [
       "<div>\n",
       "<style scoped>\n",
       "    .dataframe tbody tr th:only-of-type {\n",
       "        vertical-align: middle;\n",
       "    }\n",
       "\n",
       "    .dataframe tbody tr th {\n",
       "        vertical-align: top;\n",
       "    }\n",
       "\n",
       "    .dataframe thead th {\n",
       "        text-align: right;\n",
       "    }\n",
       "</style>\n",
       "<table border=\"1\" class=\"dataframe\">\n",
       "  <thead>\n",
       "    <tr style=\"text-align: right;\">\n",
       "      <th></th>\n",
       "      <th>id</th>\n",
       "      <th>name</th>\n",
       "      <th>genres</th>\n",
       "    </tr>\n",
       "  </thead>\n",
       "  <tbody>\n",
       "    <tr>\n",
       "      <th>0</th>\n",
       "      <td>72578usTM6Cj5qWsi471Nc</td>\n",
       "      <td>Raghu Dixit</td>\n",
       "      <td>[filmi, indian folk, indian rock, kannada pop]</td>\n",
       "    </tr>\n",
       "    <tr>\n",
       "      <th>1</th>\n",
       "      <td>7b6Ui7JVaBDEfZB9k6nHL0</td>\n",
       "      <td>The Local Train</td>\n",
       "      <td>[desi pop, hindi indie, indian indie, indian r...</td>\n",
       "    </tr>\n",
       "    <tr>\n",
       "      <th>2</th>\n",
       "      <td>5wJ1H6ud777odtZl5gG507</td>\n",
       "      <td>Vishal Mishra</td>\n",
       "      <td>[desi pop, modern bollywood]</td>\n",
       "    </tr>\n",
       "    <tr>\n",
       "      <th>3</th>\n",
       "      <td>0n4a5imdLBN24fIrBWoqrv</td>\n",
       "      <td>Because</td>\n",
       "      <td>[opm, pinoy hip hop, pinoy r&amp;b, pinoy trap, ta...</td>\n",
       "    </tr>\n",
       "    <tr>\n",
       "      <th>4</th>\n",
       "      <td>4gdMJYnopf2nEUcanAwstx</td>\n",
       "      <td>Anuv Jain</td>\n",
       "      <td>[hindi indie, indian indie, indian singer-song...</td>\n",
       "    </tr>\n",
       "  </tbody>\n",
       "</table>\n",
       "</div>"
      ],
      "text/plain": [
       "                       id             name  \\\n",
       "0  72578usTM6Cj5qWsi471Nc      Raghu Dixit   \n",
       "1  7b6Ui7JVaBDEfZB9k6nHL0  The Local Train   \n",
       "2  5wJ1H6ud777odtZl5gG507    Vishal Mishra   \n",
       "3  0n4a5imdLBN24fIrBWoqrv          Because   \n",
       "4  4gdMJYnopf2nEUcanAwstx        Anuv Jain   \n",
       "\n",
       "                                              genres  \n",
       "0     [filmi, indian folk, indian rock, kannada pop]  \n",
       "1  [desi pop, hindi indie, indian indie, indian r...  \n",
       "2                       [desi pop, modern bollywood]  \n",
       "3  [opm, pinoy hip hop, pinoy r&b, pinoy trap, ta...  \n",
       "4  [hindi indie, indian indie, indian singer-song...  "
      ]
     },
     "execution_count": 7,
     "metadata": {},
     "output_type": "execute_result"
    }
   ],
   "source": [
    "artists_df.head() "
   ]
  },
  {
   "cell_type": "code",
   "execution_count": 8,
   "metadata": {},
   "outputs": [
    {
     "name": "stdout",
     "output_type": "stream",
     "text": [
      "<class 'pandas.core.frame.DataFrame'>\n",
      "RangeIndex: 27650 entries, 0 to 27649\n",
      "Data columns (total 3 columns):\n",
      " #   Column  Non-Null Count  Dtype \n",
      "---  ------  --------------  ----- \n",
      " 0   id      27650 non-null  object\n",
      " 1   name    27650 non-null  object\n",
      " 2   genres  27650 non-null  object\n",
      "dtypes: object(3)\n",
      "memory usage: 648.2+ KB\n"
     ]
    }
   ],
   "source": [
    "artists_df.info() "
   ]
  },
  {
   "cell_type": "code",
   "execution_count": 9,
   "metadata": {},
   "outputs": [
    {
     "data": {
      "text/plain": [
       "id        0\n",
       "name      0\n",
       "genres    0\n",
       "dtype: int64"
      ]
     },
     "execution_count": 9,
     "metadata": {},
     "output_type": "execute_result"
    }
   ],
   "source": [
    "artists_df.isnull().sum() "
   ]
  },
  {
   "cell_type": "markdown",
   "metadata": {},
   "source": [
    "Tabela artyści nie zmieniła się względem poprzedniej wersji."
   ]
  },
  {
   "cell_type": "markdown",
   "metadata": {},
   "source": [
    "## Tabela sessions"
   ]
  },
  {
   "cell_type": "code",
   "execution_count": 10,
   "metadata": {},
   "outputs": [
    {
     "data": {
      "text/html": [
       "<div>\n",
       "<style scoped>\n",
       "    .dataframe tbody tr th:only-of-type {\n",
       "        vertical-align: middle;\n",
       "    }\n",
       "\n",
       "    .dataframe tbody tr th {\n",
       "        vertical-align: top;\n",
       "    }\n",
       "\n",
       "    .dataframe thead th {\n",
       "        text-align: right;\n",
       "    }\n",
       "</style>\n",
       "<table border=\"1\" class=\"dataframe\">\n",
       "  <thead>\n",
       "    <tr style=\"text-align: right;\">\n",
       "      <th></th>\n",
       "      <th>timestamp</th>\n",
       "      <th>user_id</th>\n",
       "      <th>track_id</th>\n",
       "      <th>event_type</th>\n",
       "      <th>session_id</th>\n",
       "    </tr>\n",
       "  </thead>\n",
       "  <tbody>\n",
       "    <tr>\n",
       "      <th>0</th>\n",
       "      <td>2023-01-08T16:34:10</td>\n",
       "      <td>101</td>\n",
       "      <td>5ro5LLwaurWyLZSBnWuOAM</td>\n",
       "      <td>play</td>\n",
       "      <td>124</td>\n",
       "    </tr>\n",
       "    <tr>\n",
       "      <th>1</th>\n",
       "      <td>2023-01-08T16:37:16.908000</td>\n",
       "      <td>101</td>\n",
       "      <td>5ro5LLwaurWyLZSBnWuOAM</td>\n",
       "      <td>skip</td>\n",
       "      <td>124</td>\n",
       "    </tr>\n",
       "    <tr>\n",
       "      <th>2</th>\n",
       "      <td>2023-01-08T16:37:16.908000</td>\n",
       "      <td>101</td>\n",
       "      <td>1Eaqc5EdMMvFcI4Z1Wh4VG</td>\n",
       "      <td>play</td>\n",
       "      <td>124</td>\n",
       "    </tr>\n",
       "    <tr>\n",
       "      <th>3</th>\n",
       "      <td>2023-01-08T16:37:45.343000</td>\n",
       "      <td>101</td>\n",
       "      <td>1Eaqc5EdMMvFcI4Z1Wh4VG</td>\n",
       "      <td>skip</td>\n",
       "      <td>124</td>\n",
       "    </tr>\n",
       "    <tr>\n",
       "      <th>4</th>\n",
       "      <td>2023-01-08T16:37:45.343000</td>\n",
       "      <td>101</td>\n",
       "      <td>1y33XbWVwZvhU1kBJhPQLu</td>\n",
       "      <td>play</td>\n",
       "      <td>124</td>\n",
       "    </tr>\n",
       "  </tbody>\n",
       "</table>\n",
       "</div>"
      ],
      "text/plain": [
       "                    timestamp  user_id                track_id event_type  \\\n",
       "0         2023-01-08T16:34:10      101  5ro5LLwaurWyLZSBnWuOAM       play   \n",
       "1  2023-01-08T16:37:16.908000      101  5ro5LLwaurWyLZSBnWuOAM       skip   \n",
       "2  2023-01-08T16:37:16.908000      101  1Eaqc5EdMMvFcI4Z1Wh4VG       play   \n",
       "3  2023-01-08T16:37:45.343000      101  1Eaqc5EdMMvFcI4Z1Wh4VG       skip   \n",
       "4  2023-01-08T16:37:45.343000      101  1y33XbWVwZvhU1kBJhPQLu       play   \n",
       "\n",
       "   session_id  \n",
       "0         124  \n",
       "1         124  \n",
       "2         124  \n",
       "3         124  \n",
       "4         124  "
      ]
     },
     "execution_count": 10,
     "metadata": {},
     "output_type": "execute_result"
    }
   ],
   "source": [
    "sessions_df.head() "
   ]
  },
  {
   "cell_type": "code",
   "execution_count": 11,
   "metadata": {},
   "outputs": [
    {
     "name": "stdout",
     "output_type": "stream",
     "text": [
      "<class 'pandas.core.frame.DataFrame'>\n",
      "RangeIndex: 10148165 entries, 0 to 10148164\n",
      "Data columns (total 5 columns):\n",
      " #   Column      Dtype \n",
      "---  ------      ----- \n",
      " 0   timestamp   object\n",
      " 1   user_id     int64 \n",
      " 2   track_id    object\n",
      " 3   event_type  object\n",
      " 4   session_id  int64 \n",
      "dtypes: int64(2), object(3)\n",
      "memory usage: 387.1+ MB\n"
     ]
    }
   ],
   "source": [
    "sessions_df.info() "
   ]
  },
  {
   "cell_type": "markdown",
   "metadata": {},
   "source": [
    "Posiadamy obecnie ponad 10 milionów sesji użytkownikow. To powinno być wystarczające do utworzenia modelu na podstawie tych danych."
   ]
  },
  {
   "cell_type": "markdown",
   "metadata": {},
   "source": [
    "### Brakujące wartości"
   ]
  },
  {
   "cell_type": "code",
   "execution_count": 12,
   "metadata": {},
   "outputs": [
    {
     "data": {
      "text/plain": [
       "timestamp     0\n",
       "user_id       0\n",
       "track_id      0\n",
       "event_type    0\n",
       "session_id    0\n",
       "dtype: int64"
      ]
     },
     "execution_count": 12,
     "metadata": {},
     "output_type": "execute_result"
    }
   ],
   "source": [
    "sessions_df.isnull().sum() "
   ]
  },
  {
   "cell_type": "markdown",
   "metadata": {},
   "source": [
    "W danych nie ma braków."
   ]
  },
  {
   "cell_type": "markdown",
   "metadata": {},
   "source": [
    "### Rozkład atrybutów"
   ]
  },
  {
   "cell_type": "code",
   "execution_count": 13,
   "metadata": {},
   "outputs": [
    {
     "data": {
      "image/png": "[encoded data removed]",
      "text/plain": [
       "<Figure size 640x480 with 1 Axes>"
      ]
     },
     "metadata": {},
     "output_type": "display_data"
    }
   ],
   "source": [
    "# Rozkład atrybutów w kolumnie event_type\n",
    "event_type_distribution = sessions_df['event_type'].value_counts()\n",
    "\n",
    "# Tworzenie histogramu\n",
    "plt.bar(event_type_distribution.index, event_type_distribution.values, color='skyblue')\n",
    "plt.title('Histogram rozkładu atrybutów w kolumnie event_type')\n",
    "plt.xlabel('Atrybuty event_type')\n",
    "plt.ylabel('Liczba wystąpień')\n",
    "plt.show()"
   ]
  },
  {
   "cell_type": "code",
   "execution_count": 14,
   "metadata": {},
   "outputs": [
    {
     "data": {
      "text/plain": [
       "event_type\n",
       "play             5613896\n",
       "skip             1668992\n",
       "like             1620756\n",
       "advertisement    1236592\n",
       "buy_premium         7929\n",
       "Name: count, dtype: int64"
      ]
     },
     "execution_count": 14,
     "metadata": {},
     "output_type": "execute_result"
    }
   ],
   "source": [
    "event_type_distribution"
   ]
  },
  {
   "cell_type": "markdown",
   "metadata": {},
   "source": [
    "Posiadamy dużo danych o każdym typie zdarzeń. Od reszty odstaje jedynie 'buy_premium', który stanowi jedynie ułamek procenta wszystkich zdarzeń. "
   ]
  },
  {
   "cell_type": "markdown",
   "metadata": {},
   "source": [
    "## Tabela track_storage"
   ]
  },
  {
   "cell_type": "code",
   "execution_count": 15,
   "metadata": {},
   "outputs": [
    {
     "data": {
      "text/html": [
       "<div>\n",
       "<style scoped>\n",
       "    .dataframe tbody tr th:only-of-type {\n",
       "        vertical-align: middle;\n",
       "    }\n",
       "\n",
       "    .dataframe tbody tr th {\n",
       "        vertical-align: top;\n",
       "    }\n",
       "\n",
       "    .dataframe thead th {\n",
       "        text-align: right;\n",
       "    }\n",
       "</style>\n",
       "<table border=\"1\" class=\"dataframe\">\n",
       "  <thead>\n",
       "    <tr style=\"text-align: right;\">\n",
       "      <th></th>\n",
       "      <th>track_id</th>\n",
       "      <th>storage_class</th>\n",
       "      <th>daily_cost</th>\n",
       "    </tr>\n",
       "  </thead>\n",
       "  <tbody>\n",
       "    <tr>\n",
       "      <th>0</th>\n",
       "      <td>6C0WWu7RYKbAgWUI3YC0sT</td>\n",
       "      <td>slow</td>\n",
       "      <td>0.012479</td>\n",
       "    </tr>\n",
       "    <tr>\n",
       "      <th>1</th>\n",
       "      <td>4q7EBRq8ncztC2PRmEC7Fy</td>\n",
       "      <td>slow</td>\n",
       "      <td>0.012737</td>\n",
       "    </tr>\n",
       "    <tr>\n",
       "      <th>2</th>\n",
       "      <td>7cNyONpVADZVrW9xe3qq4z</td>\n",
       "      <td>slow</td>\n",
       "      <td>0.013967</td>\n",
       "    </tr>\n",
       "    <tr>\n",
       "      <th>3</th>\n",
       "      <td>1bKRTzTFz7wHMxpgZSuPR1</td>\n",
       "      <td>slow</td>\n",
       "      <td>0.009685</td>\n",
       "    </tr>\n",
       "    <tr>\n",
       "      <th>4</th>\n",
       "      <td>56OEjuyZ3AROnv4aR1XqhD</td>\n",
       "      <td>slow</td>\n",
       "      <td>0.009106</td>\n",
       "    </tr>\n",
       "  </tbody>\n",
       "</table>\n",
       "</div>"
      ],
      "text/plain": [
       "                 track_id storage_class  daily_cost\n",
       "0  6C0WWu7RYKbAgWUI3YC0sT          slow    0.012479\n",
       "1  4q7EBRq8ncztC2PRmEC7Fy          slow    0.012737\n",
       "2  7cNyONpVADZVrW9xe3qq4z          slow    0.013967\n",
       "3  1bKRTzTFz7wHMxpgZSuPR1          slow    0.009685\n",
       "4  56OEjuyZ3AROnv4aR1XqhD          slow    0.009106"
      ]
     },
     "execution_count": 15,
     "metadata": {},
     "output_type": "execute_result"
    }
   ],
   "source": [
    "track_storage_df.head() "
   ]
  },
  {
   "cell_type": "code",
   "execution_count": 16,
   "metadata": {},
   "outputs": [
    {
     "name": "stdout",
     "output_type": "stream",
     "text": [
      "<class 'pandas.core.frame.DataFrame'>\n",
      "RangeIndex: 129648 entries, 0 to 129647\n",
      "Data columns (total 3 columns):\n",
      " #   Column         Non-Null Count   Dtype  \n",
      "---  ------         --------------   -----  \n",
      " 0   track_id       129648 non-null  object \n",
      " 1   storage_class  129648 non-null  object \n",
      " 2   daily_cost     129648 non-null  float64\n",
      "dtypes: float64(1), object(2)\n",
      "memory usage: 3.0+ MB\n"
     ]
    }
   ],
   "source": [
    "track_storage_df.info() "
   ]
  },
  {
   "cell_type": "markdown",
   "metadata": {},
   "source": [
    "Brak zmian względem poprzedniej wersji danych."
   ]
  },
  {
   "cell_type": "markdown",
   "metadata": {},
   "source": [
    "## Tabela tracks"
   ]
  },
  {
   "cell_type": "code",
   "execution_count": 17,
   "metadata": {},
   "outputs": [
    {
     "data": {
      "text/html": [
       "<div>\n",
       "<style scoped>\n",
       "    .dataframe tbody tr th:only-of-type {\n",
       "        vertical-align: middle;\n",
       "    }\n",
       "\n",
       "    .dataframe tbody tr th {\n",
       "        vertical-align: top;\n",
       "    }\n",
       "\n",
       "    .dataframe thead th {\n",
       "        text-align: right;\n",
       "    }\n",
       "</style>\n",
       "<table border=\"1\" class=\"dataframe\">\n",
       "  <thead>\n",
       "    <tr style=\"text-align: right;\">\n",
       "      <th></th>\n",
       "      <th>id</th>\n",
       "      <th>name</th>\n",
       "      <th>popularity</th>\n",
       "      <th>duration_ms</th>\n",
       "      <th>explicit</th>\n",
       "      <th>id_artist</th>\n",
       "      <th>release_date</th>\n",
       "      <th>danceability</th>\n",
       "      <th>energy</th>\n",
       "      <th>key</th>\n",
       "      <th>mode</th>\n",
       "      <th>loudness</th>\n",
       "      <th>speechiness</th>\n",
       "      <th>acousticness</th>\n",
       "      <th>instrumentalness</th>\n",
       "      <th>liveness</th>\n",
       "      <th>valence</th>\n",
       "      <th>tempo</th>\n",
       "      <th>time_signature</th>\n",
       "    </tr>\n",
       "  </thead>\n",
       "  <tbody>\n",
       "    <tr>\n",
       "      <th>0</th>\n",
       "      <td>6C0WWu7RYKbAgWUI3YC0sT</td>\n",
       "      <td>Voglio farti un regalo</td>\n",
       "      <td>40</td>\n",
       "      <td>249573</td>\n",
       "      <td>1</td>\n",
       "      <td>7u710e44HW3K7A5eTnRqHC</td>\n",
       "      <td>2004-09-01</td>\n",
       "      <td>0.727</td>\n",
       "      <td>0.6630</td>\n",
       "      <td>4</td>\n",
       "      <td>0.0</td>\n",
       "      <td>-4.818</td>\n",
       "      <td>0.2770</td>\n",
       "      <td>0.08010</td>\n",
       "      <td>0.000000</td>\n",
       "      <td>0.119</td>\n",
       "      <td>0.633</td>\n",
       "      <td>97.865</td>\n",
       "      <td>4</td>\n",
       "    </tr>\n",
       "    <tr>\n",
       "      <th>1</th>\n",
       "      <td>4q7EBRq8ncztC2PRmEC7Fy</td>\n",
       "      <td>My Love - Live / Remastered</td>\n",
       "      <td>34</td>\n",
       "      <td>254733</td>\n",
       "      <td>0</td>\n",
       "      <td>3sFhA6G1N0gG1pszb6kk1m</td>\n",
       "      <td>1976-12-10</td>\n",
       "      <td>0.444</td>\n",
       "      <td>0.3480</td>\n",
       "      <td>5</td>\n",
       "      <td>1.0</td>\n",
       "      <td>-12.729</td>\n",
       "      <td>0.0321</td>\n",
       "      <td>0.65600</td>\n",
       "      <td>0.003740</td>\n",
       "      <td>0.956</td>\n",
       "      <td>0.284</td>\n",
       "      <td>116.685</td>\n",
       "      <td>4</td>\n",
       "    </tr>\n",
       "    <tr>\n",
       "      <th>2</th>\n",
       "      <td>7cNyONpVADZVrW9xe3qq4z</td>\n",
       "      <td>Heroes of Sand</td>\n",
       "      <td>45</td>\n",
       "      <td>279347</td>\n",
       "      <td>0</td>\n",
       "      <td>7IAXZaLTb6nkJr8RmVPn5y</td>\n",
       "      <td>2001</td>\n",
       "      <td>0.273</td>\n",
       "      <td>0.8990</td>\n",
       "      <td>6</td>\n",
       "      <td>1.0</td>\n",
       "      <td>-5.131</td>\n",
       "      <td>0.0499</td>\n",
       "      <td>0.00177</td>\n",
       "      <td>0.000006</td>\n",
       "      <td>0.128</td>\n",
       "      <td>0.301</td>\n",
       "      <td>159.872</td>\n",
       "      <td>3</td>\n",
       "    </tr>\n",
       "    <tr>\n",
       "      <th>3</th>\n",
       "      <td>1bKRTzTFz7wHMxpgZSuPR1</td>\n",
       "      <td>Shine on Harvest Moon</td>\n",
       "      <td>6</td>\n",
       "      <td>193707</td>\n",
       "      <td>0</td>\n",
       "      <td>5bOsFzuJ6QZMr86ezC4oXY</td>\n",
       "      <td>1961-10-15</td>\n",
       "      <td>0.628</td>\n",
       "      <td>0.0616</td>\n",
       "      <td>0</td>\n",
       "      <td>1.0</td>\n",
       "      <td>-24.973</td>\n",
       "      <td>0.0558</td>\n",
       "      <td>0.78400</td>\n",
       "      <td>0.000009</td>\n",
       "      <td>0.172</td>\n",
       "      <td>0.340</td>\n",
       "      <td>85.012</td>\n",
       "      <td>4</td>\n",
       "    </tr>\n",
       "    <tr>\n",
       "      <th>4</th>\n",
       "      <td>56OEjuyZ3AROnv4aR1XqhD</td>\n",
       "      <td>男子漢</td>\n",
       "      <td>19</td>\n",
       "      <td>182120</td>\n",
       "      <td>0</td>\n",
       "      <td>6zJ7WZkyTNmB1bFdmHH2k9</td>\n",
       "      <td>1970-01-11</td>\n",
       "      <td>0.353</td>\n",
       "      <td>0.0663</td>\n",
       "      <td>8</td>\n",
       "      <td>0.0</td>\n",
       "      <td>-24.915</td>\n",
       "      <td>0.0445</td>\n",
       "      <td>0.95800</td>\n",
       "      <td>0.000446</td>\n",
       "      <td>0.241</td>\n",
       "      <td>0.317</td>\n",
       "      <td>100.041</td>\n",
       "      <td>4</td>\n",
       "    </tr>\n",
       "  </tbody>\n",
       "</table>\n",
       "</div>"
      ],
      "text/plain": [
       "                       id                         name  popularity  \\\n",
       "0  6C0WWu7RYKbAgWUI3YC0sT       Voglio farti un regalo          40   \n",
       "1  4q7EBRq8ncztC2PRmEC7Fy  My Love - Live / Remastered          34   \n",
       "2  7cNyONpVADZVrW9xe3qq4z               Heroes of Sand          45   \n",
       "3  1bKRTzTFz7wHMxpgZSuPR1        Shine on Harvest Moon           6   \n",
       "4  56OEjuyZ3AROnv4aR1XqhD                          男子漢          19   \n",
       "\n",
       "   duration_ms  explicit               id_artist release_date  danceability  \\\n",
       "0       249573         1  7u710e44HW3K7A5eTnRqHC   2004-09-01         0.727   \n",
       "1       254733         0  3sFhA6G1N0gG1pszb6kk1m   1976-12-10         0.444   \n",
       "2       279347         0  7IAXZaLTb6nkJr8RmVPn5y         2001         0.273   \n",
       "3       193707         0  5bOsFzuJ6QZMr86ezC4oXY   1961-10-15         0.628   \n",
       "4       182120         0  6zJ7WZkyTNmB1bFdmHH2k9   1970-01-11         0.353   \n",
       "\n",
       "   energy  key  mode  loudness  speechiness  acousticness  instrumentalness  \\\n",
       "0  0.6630    4   0.0    -4.818       0.2770       0.08010          0.000000   \n",
       "1  0.3480    5   1.0   -12.729       0.0321       0.65600          0.003740   \n",
       "2  0.8990    6   1.0    -5.131       0.0499       0.00177          0.000006   \n",
       "3  0.0616    0   1.0   -24.973       0.0558       0.78400          0.000009   \n",
       "4  0.0663    8   0.0   -24.915       0.0445       0.95800          0.000446   \n",
       "\n",
       "   liveness  valence    tempo  time_signature  \n",
       "0     0.119    0.633   97.865               4  \n",
       "1     0.956    0.284  116.685               4  \n",
       "2     0.128    0.301  159.872               3  \n",
       "3     0.172    0.340   85.012               4  \n",
       "4     0.241    0.317  100.041               4  "
      ]
     },
     "execution_count": 17,
     "metadata": {},
     "output_type": "execute_result"
    }
   ],
   "source": [
    "tracks_df.head() "
   ]
  },
  {
   "cell_type": "code",
   "execution_count": 18,
   "metadata": {},
   "outputs": [
    {
     "name": "stdout",
     "output_type": "stream",
     "text": [
      "<class 'pandas.core.frame.DataFrame'>\n",
      "RangeIndex: 129648 entries, 0 to 129647\n",
      "Data columns (total 19 columns):\n",
      " #   Column            Non-Null Count   Dtype  \n",
      "---  ------            --------------   -----  \n",
      " 0   id                129648 non-null  object \n",
      " 1   name              129648 non-null  object \n",
      " 2   popularity        129648 non-null  int64  \n",
      " 3   duration_ms       129648 non-null  int64  \n",
      " 4   explicit          129648 non-null  int64  \n",
      " 5   id_artist         129648 non-null  object \n",
      " 6   release_date      129648 non-null  object \n",
      " 7   danceability      129648 non-null  float64\n",
      " 8   energy            129648 non-null  float64\n",
      " 9   key               129648 non-null  int64  \n",
      " 10  mode              25929 non-null   float64\n",
      " 11  loudness          129648 non-null  float64\n",
      " 12  speechiness       129648 non-null  float64\n",
      " 13  acousticness      129648 non-null  float64\n",
      " 14  instrumentalness  129648 non-null  float64\n",
      " 15  liveness          129648 non-null  float64\n",
      " 16  valence           129648 non-null  float64\n",
      " 17  tempo             129648 non-null  float64\n",
      " 18  time_signature    129648 non-null  int64  \n",
      "dtypes: float64(10), int64(5), object(4)\n",
      "memory usage: 18.8+ MB\n"
     ]
    }
   ],
   "source": [
    "tracks_df.info() "
   ]
  },
  {
   "cell_type": "markdown",
   "metadata": {},
   "source": [
    "### Brakujące wartości"
   ]
  },
  {
   "cell_type": "code",
   "execution_count": 19,
   "metadata": {},
   "outputs": [
    {
     "data": {
      "text/plain": [
       "id                       0\n",
       "name                     0\n",
       "popularity               0\n",
       "duration_ms              0\n",
       "explicit                 0\n",
       "id_artist                0\n",
       "release_date             0\n",
       "danceability             0\n",
       "energy                   0\n",
       "key                      0\n",
       "mode                103719\n",
       "loudness                 0\n",
       "speechiness              0\n",
       "acousticness             0\n",
       "instrumentalness         0\n",
       "liveness                 0\n",
       "valence                  0\n",
       "tempo                    0\n",
       "time_signature           0\n",
       "dtype: int64"
      ]
     },
     "execution_count": 19,
     "metadata": {},
     "output_type": "execute_result"
    }
   ],
   "source": [
    "tracks_df.isnull().sum() "
   ]
  },
  {
   "cell_type": "markdown",
   "metadata": {},
   "source": [
    "Zostały usunięte braki w id, name, popularity, id_artist. Pozostały jedynie braki w mode."
   ]
  },
  {
   "cell_type": "markdown",
   "metadata": {},
   "source": [
    "### Rozkład atrybutów"
   ]
  },
  {
   "cell_type": "code",
   "execution_count": 20,
   "metadata": {},
   "outputs": [
    {
     "data": {
      "text/plain": [
       "array([[<Axes: title={'center': 'popularity'}>,\n",
       "        <Axes: title={'center': 'duration_ms'}>,\n",
       "        <Axes: title={'center': 'explicit'}>,\n",
       "        <Axes: title={'center': 'danceability'}>],\n",
       "       [<Axes: title={'center': 'energy'}>,\n",
       "        <Axes: title={'center': 'key'}>,\n",
       "        <Axes: title={'center': 'mode'}>,\n",
       "        <Axes: title={'center': 'loudness'}>],\n",
       "       [<Axes: title={'center': 'speechiness'}>,\n",
       "        <Axes: title={'center': 'acousticness'}>,\n",
       "        <Axes: title={'center': 'instrumentalness'}>,\n",
       "        <Axes: title={'center': 'liveness'}>],\n",
       "       [<Axes: title={'center': 'valence'}>,\n",
       "        <Axes: title={'center': 'tempo'}>,\n",
       "        <Axes: title={'center': 'time_signature'}>, <Axes: >]],\n",
       "      dtype=object)"
      ]
     },
     "execution_count": 20,
     "metadata": {},
     "output_type": "execute_result"
    },
    {
     "data": {
      "image/png": "[encoded data removed]",
      "text/plain": [
       "<Figure size 1200x1000 with 16 Axes>"
      ]
     },
     "metadata": {},
     "output_type": "display_data"
    }
   ],
   "source": [
    "tracks_df.hist(figsize=(12, 10), bins=20)"
   ]
  },
  {
   "cell_type": "markdown",
   "metadata": {},
   "source": [
    "Rozkłady nie zmieniły się zbytno w porównaniu z poprzednią wersją danych."
   ]
  },
  {
   "cell_type": "markdown",
   "metadata": {},
   "source": [
    "## Tabela users"
   ]
  },
  {
   "cell_type": "code",
   "execution_count": 21,
   "metadata": {},
   "outputs": [
    {
     "data": {
      "text/html": [
       "<div>\n",
       "<style scoped>\n",
       "    .dataframe tbody tr th:only-of-type {\n",
       "        vertical-align: middle;\n",
       "    }\n",
       "\n",
       "    .dataframe tbody tr th {\n",
       "        vertical-align: top;\n",
       "    }\n",
       "\n",
       "    .dataframe thead th {\n",
       "        text-align: right;\n",
       "    }\n",
       "</style>\n",
       "<table border=\"1\" class=\"dataframe\">\n",
       "  <thead>\n",
       "    <tr style=\"text-align: right;\">\n",
       "      <th></th>\n",
       "      <th>user_id</th>\n",
       "      <th>name</th>\n",
       "      <th>city</th>\n",
       "      <th>street</th>\n",
       "      <th>favourite_genres</th>\n",
       "      <th>premium_user</th>\n",
       "    </tr>\n",
       "  </thead>\n",
       "  <tbody>\n",
       "    <tr>\n",
       "      <th>0</th>\n",
       "      <td>101</td>\n",
       "      <td>Maurycy Lejk</td>\n",
       "      <td>Wrocław</td>\n",
       "      <td>al. Powstańców Śląskich 04</td>\n",
       "      <td>[regional mexican, blues rock, dance pop]</td>\n",
       "      <td>False</td>\n",
       "    </tr>\n",
       "    <tr>\n",
       "      <th>1</th>\n",
       "      <td>102</td>\n",
       "      <td>Julian Rohde</td>\n",
       "      <td>Kraków</td>\n",
       "      <td>al. Rataja 793</td>\n",
       "      <td>[classic rock, dance pop, argentine rock]</td>\n",
       "      <td>False</td>\n",
       "    </tr>\n",
       "    <tr>\n",
       "      <th>2</th>\n",
       "      <td>103</td>\n",
       "      <td>Jerzy Żelazo</td>\n",
       "      <td>Kraków</td>\n",
       "      <td>pl. Orzechowa 509</td>\n",
       "      <td>[pop rock, new wave, new romantic]</td>\n",
       "      <td>False</td>\n",
       "    </tr>\n",
       "    <tr>\n",
       "      <th>3</th>\n",
       "      <td>104</td>\n",
       "      <td>Ada Mazanek</td>\n",
       "      <td>Warszawa</td>\n",
       "      <td>pl. Zacisze 78/30</td>\n",
       "      <td>[new romantic, alternative rock, c-pop]</td>\n",
       "      <td>False</td>\n",
       "    </tr>\n",
       "    <tr>\n",
       "      <th>4</th>\n",
       "      <td>105</td>\n",
       "      <td>Ernest Kukieła</td>\n",
       "      <td>Warszawa</td>\n",
       "      <td>al. Orla 40</td>\n",
       "      <td>[country rock, metal, mpb]</td>\n",
       "      <td>False</td>\n",
       "    </tr>\n",
       "  </tbody>\n",
       "</table>\n",
       "</div>"
      ],
      "text/plain": [
       "   user_id            name      city                      street  \\\n",
       "0      101    Maurycy Lejk   Wrocław  al. Powstańców Śląskich 04   \n",
       "1      102    Julian Rohde    Kraków              al. Rataja 793   \n",
       "2      103    Jerzy Żelazo    Kraków           pl. Orzechowa 509   \n",
       "3      104     Ada Mazanek  Warszawa           pl. Zacisze 78/30   \n",
       "4      105  Ernest Kukieła  Warszawa                 al. Orla 40   \n",
       "\n",
       "                            favourite_genres  premium_user  \n",
       "0  [regional mexican, blues rock, dance pop]         False  \n",
       "1  [classic rock, dance pop, argentine rock]         False  \n",
       "2         [pop rock, new wave, new romantic]         False  \n",
       "3    [new romantic, alternative rock, c-pop]         False  \n",
       "4                 [country rock, metal, mpb]         False  "
      ]
     },
     "execution_count": 21,
     "metadata": {},
     "output_type": "execute_result"
    }
   ],
   "source": [
    "users_df.head() "
   ]
  },
  {
   "cell_type": "code",
   "execution_count": 22,
   "metadata": {},
   "outputs": [
    {
     "name": "stdout",
     "output_type": "stream",
     "text": [
      "<class 'pandas.core.frame.DataFrame'>\n",
      "RangeIndex: 20000 entries, 0 to 19999\n",
      "Data columns (total 6 columns):\n",
      " #   Column            Non-Null Count  Dtype \n",
      "---  ------            --------------  ----- \n",
      " 0   user_id           20000 non-null  int64 \n",
      " 1   name              20000 non-null  object\n",
      " 2   city              20000 non-null  object\n",
      " 3   street            20000 non-null  object\n",
      " 4   favourite_genres  20000 non-null  object\n",
      " 5   premium_user      20000 non-null  bool  \n",
      "dtypes: bool(1), int64(1), object(4)\n",
      "memory usage: 800.9+ KB\n"
     ]
    }
   ],
   "source": [
    "users_df.info() "
   ]
  },
  {
   "cell_type": "markdown",
   "metadata": {},
   "source": [
    "Liczba użytkowników zwiększyła się z 5000 do 20000."
   ]
  },
  {
   "cell_type": "markdown",
   "metadata": {},
   "source": [
    "### Brakujące wartości"
   ]
  },
  {
   "cell_type": "code",
   "execution_count": 23,
   "metadata": {},
   "outputs": [
    {
     "data": {
      "text/plain": [
       "user_id             0\n",
       "name                0\n",
       "city                0\n",
       "street              0\n",
       "favourite_genres    0\n",
       "premium_user        0\n",
       "dtype: int64"
      ]
     },
     "execution_count": 23,
     "metadata": {},
     "output_type": "execute_result"
    }
   ],
   "source": [
    "users_df.isnull().sum() "
   ]
  },
  {
   "cell_type": "markdown",
   "metadata": {},
   "source": [
    "### Rozkład atrybutów"
   ]
  },
  {
   "cell_type": "code",
   "execution_count": 26,
   "metadata": {},
   "outputs": [
    {
     "data": {
      "text/plain": [
       "premium_user\n",
       "False    12071\n",
       "True      7929\n",
       "Name: count, dtype: int64"
      ]
     },
     "execution_count": 26,
     "metadata": {},
     "output_type": "execute_result"
    },
    {
     "data": {
      "image/png": "[encoded data removed]",
      "text/plain": [
       "<Figure size 640x480 with 1 Axes>"
      ]
     },
     "metadata": {},
     "output_type": "display_data"
    }
   ],
   "source": [
    "users_df['premium_user'].value_counts().plot(kind='bar', rot=0)\n",
    "users_df['premium_user'].value_counts()"
   ]
  },
  {
   "cell_type": "code",
   "execution_count": 25,
   "metadata": {},
   "outputs": [
    {
     "data": {
      "text/plain": [
       "array(['Wrocław', 'Kraków', 'Warszawa', 'Gdynia', 'Poznań', 'Szczecin',\n",
       "       'Radom'], dtype=object)"
      ]
     },
     "execution_count": 25,
     "metadata": {},
     "output_type": "execute_result"
    }
   ],
   "source": [
    "users_df['city'].unique() "
   ]
  },
  {
   "cell_type": "markdown",
   "metadata": {},
   "source": [
    "Wciąż posiadamy dane użytkowników jedynie z kilku dużych miast. Nie jesteśmy w stanie zdobyć danych o użytkownikach z innych miast."
   ]
  }
 ],
 "metadata": {
  "kernelspec": {
   "display_name": "Python 3 (ipykernel)",
   "language": "python",
   "name": "python3"
  },
  "language_info": {
   "codemirror_mode": {
    "name": "ipython",
    "version": 3
   },
   "file_extension": ".py",
   "mimetype": "text/x-python",
   "name": "python",
   "nbconvert_exporter": "python",
   "pygments_lexer": "ipython3",
   "version": "3.9.10"
  }
 },
 "nbformat": 4,
 "nbformat_minor": 4
}
