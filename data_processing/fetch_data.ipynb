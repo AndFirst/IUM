{
 "cells": [
  {
   "cell_type": "code",
   "execution_count": 15,
   "metadata": {
    "collapsed": false,
    "jupyter": {
     "outputs_hidden": false
    },
    "pycharm": {
     "is_executing": true,
     "name": "#%%\n"
    }
   },
   "outputs": [],
   "source": [
    "import pandas as pd\n",
    "import sqlite3"
   ]
  },
  {
   "cell_type": "code",
   "execution_count": 20,
   "metadata": {
    "collapsed": false,
    "pycharm": {
     "name": "#%%\n"
    }
   },
   "outputs": [],
   "source": [
    "query = '''\n",
    "SELECT\n",
    "    u.name,\n",
    "    u.city,\n",
    "    u.street,\n",
    "    u.favourite_genres,\n",
    "    a.user_id,\n",
    "    a.year,\n",
    "    a.month,\n",
    "    CAST(COALESCE(aaa.number_of_advertisements, 0) AS INTEGER) as number_of_advertisements,\n",
    "    CAST(COALESCE(aa.number_of_skips, 0) AS INTEGER) as number_of_skips,\n",
    "    CAST(COALESCE(b.number_of_likes, 0) AS INTEGER) as number_of_likes,\n",
    "    c.total_tracks_duration_ms,\n",
    "    d.number_of_different_artists,\n",
    "    e.average_release_date,\n",
    "    e.average_duration_ms,\n",
    "    e.explicit_tracks_ratio,\n",
    "    e.average_popularity,\n",
    "    e.average_acousticness,\n",
    "    e.average_danceability,\n",
    "    e.average_energy,\n",
    "    e.average_instrumentalness,\n",
    "    e.average_liveness,\n",
    "    e.average_loudness,\n",
    "    e.average_speechiness,\n",
    "    e.average_tempo,\n",
    "    e.average_valence,\n",
    "    f.premium_purchased,\n",
    "    g.premium_purchased as premium_purchased_this_month,\n",
    "    CAST(COALESCE(h.premium_purchased_next_month, 0) AS INTEGER) AS premium_purchased_next_month\n",
    "FROM\n",
    "    (SELECT\n",
    "        user_id,\n",
    "        strftime('%Y', timestamp) as year,\n",
    "        strftime('%m', timestamp) as month\n",
    "    FROM sessions\n",
    "    GROUP BY user_id, year, month) a\n",
    "LEFT JOIN\n",
    "    (SELECT\n",
    "            user_id,\n",
    "            strftime('%Y', timestamp) as year,\n",
    "            strftime('%m', timestamp) as month,\n",
    "            COUNT(*) as number_of_advertisements\n",
    "        FROM sessions\n",
    "        WHERE event_type = 'advertisement'\n",
    "        GROUP BY user_id, year, month) aaa\n",
    "ON \n",
    "    a.user_id = aaa.user_id AND a.year = aaa.year AND a.month = aaa.month\n",
    "LEFT JOIN\n",
    "    (SELECT\n",
    "        user_id,\n",
    "        strftime('%Y', timestamp) as year,\n",
    "        strftime('%m', timestamp) as month,\n",
    "        COUNT(*) as number_of_skips\n",
    "    FROM sessions\n",
    "    WHERE event_type = 'skip'\n",
    "    GROUP BY user_id, year, month) aa\n",
    "ON \n",
    "    a.user_id = aa.user_id AND a.year = aa.year AND a.month = aa.month\n",
    "LEFT JOIN\n",
    "    (SELECT\n",
    "        user_id,\n",
    "        strftime('%Y', timestamp) as year,\n",
    "        strftime('%m', timestamp) as month,\n",
    "        COUNT(*) as number_of_likes\n",
    "    FROM sessions\n",
    "    WHERE event_type = 'like'\n",
    "    GROUP BY user_id, year, month) b\n",
    "ON\n",
    "    a.user_id = b.user_id AND a.year = b.year AND a.month = b.month\n",
    "LEFT JOIN\n",
    "    (SELECT\n",
    "        user_id,\n",
    "        strftime('%Y', timestamp) as year,\n",
    "        strftime('%m', timestamp) as month,\n",
    "        SUM(tracks.duration_ms) as total_tracks_duration_ms\n",
    "    FROM\n",
    "        sessions\n",
    "    JOIN\n",
    "        tracks ON sessions.track_id = tracks.id\n",
    "    WHERE\n",
    "        event_type = 'play'\n",
    "    GROUP BY\n",
    "        year, month, user_id) c\n",
    "ON\n",
    "    a.user_id = c.user_id AND a.year = c.year AND a.month = c.month\n",
    "LEFT JOIN\n",
    "    (SELECT\n",
    "        user_id,\n",
    "        strftime('%Y', timestamp) as year,\n",
    "        strftime('%m', timestamp) as month,\n",
    "        COUNT(DISTINCT artists.id) as number_of_different_artists\n",
    "    FROM\n",
    "        sessions\n",
    "    JOIN\n",
    "        tracks ON sessions.track_id = tracks.id\n",
    "    JOIN\n",
    "        artists ON tracks.id_artist = artists.id\n",
    "    WHERE\n",
    "        event_type = 'play'\n",
    "    GROUP BY\n",
    "        year, month, user_id) d\n",
    "ON\n",
    "    a.user_id = d.user_id AND a.year = d.year AND a.month = d.month\n",
    "LEFT JOIN\n",
    "    (SELECT\n",
    "        strftime('%Y', s.timestamp) AS year,\n",
    "        strftime('%m', s.timestamp) AS month,\n",
    "        s.user_id,\n",
    "        AVG(strftime('%s', t.release_date)) AS average_release_date,\n",
    "        AVG(t.duration_ms) AS average_duration_ms,\n",
    "        AVG(CAST(t.explicit AS FLOAT)) AS explicit_tracks_ratio,\n",
    "        AVG(t.popularity) AS average_popularity,\n",
    "        AVG(t.acousticness) AS average_acousticness,\n",
    "        AVG(t.danceability) AS average_danceability,\n",
    "        AVG(t.energy) AS average_energy,\n",
    "        AVG(t.instrumentalness) AS average_instrumentalness,\n",
    "        AVG(t.liveness) AS average_liveness,\n",
    "        AVG(t.loudness) AS average_loudness,\n",
    "        AVG(t.speechiness) AS average_speechiness,\n",
    "        AVG(t.tempo) AS average_tempo,\n",
    "        AVG(t.valence) AS average_valence\n",
    "    FROM\n",
    "        sessions s\n",
    "    JOIN\n",
    "        tracks t ON s.track_id = t.id\n",
    "    WHERE\n",
    "        s.event_type = 'play'\n",
    "    GROUP BY\n",
    "        year, month, s.user_id) e\n",
    "ON\n",
    "    a.user_id = e.user_id AND a.year = e.year AND a.month = e.month\n",
    "LEFT JOIN\n",
    "    (SELECT\n",
    "        strftime('%Y', s.timestamp) AS year,\n",
    "        strftime('%m', s.timestamp) AS month,\n",
    "        s.user_id,\n",
    "        MAX(u.premium_user) AS premium_purchased\n",
    "    FROM sessions s\n",
    "    JOIN users u ON s.user_id = u.user_id\n",
    "    GROUP BY year, month, s.user_id) f\n",
    "ON\n",
    "    a.user_id = f.user_id AND a.year = f.year AND a.month = f.month\n",
    "LEFT JOIN\n",
    "    (SELECT\n",
    "        strftime('%Y', s.timestamp) AS year,\n",
    "        strftime('%m', s.timestamp) AS month,\n",
    "        s.user_id,\n",
    "        MAX(CASE WHEN s.event_type = 'buy_premium' THEN 1 ELSE 0 END) AS premium_purchased\n",
    "    FROM sessions s\n",
    "    GROUP BY year, month, s.user_id) g\n",
    "ON\n",
    "    a.user_id = g.user_id AND a.year = g.year AND a.month = g.month\n",
    "LEFT JOIN\n",
    "    (SELECT\n",
    "        strftime('%Y', s.timestamp, '-1 month') AS prev_year,\n",
    "        strftime('%m', s.timestamp, '-1 month') AS prev_month,\n",
    "        strftime('%Y', s.timestamp ) AS current_year,\n",
    "        strftime('%m', s.timestamp) AS current_month,\n",
    "        strftime('%Y', s.timestamp, '+1 month') AS year,\n",
    "        strftime('%m', s.timestamp, '+1 month') AS month,\n",
    "        s.user_id,\n",
    "        MAX(CASE WHEN s.event_type = 'buy_premium' THEN 1 ELSE 0 END) AS premium_purchased_next_month\n",
    "    FROM sessions s\n",
    "    GROUP BY s.user_id, year, month) h\n",
    "ON\n",
    "    a.user_id = h.user_id AND a.year = h.prev_year AND a.month = h.prev_month\n",
    "JOIN\n",
    "    users u\n",
    "ON\n",
    "    a.user_id = u.user_id\n",
    "ORDER BY\n",
    "    a.user_id, a.year, a.month;\n",
    "\n",
    "'''"
   ]
  },
  {
   "cell_type": "code",
   "execution_count": 21,
   "metadata": {
    "collapsed": false,
    "pycharm": {
     "name": "#%%\n"
    }
   },
   "outputs": [],
   "source": [
    "import sqlite3\n",
    "import pandas as pd\n",
    "conn = sqlite3.connect('/home/irek/Desktop/ium/database.db')\n",
    "data = pd.read_sql(query, conn)\n",
    "conn.close()"
   ]
  },
  {
   "cell_type": "code",
   "execution_count": 22,
   "metadata": {
    "collapsed": false,
    "pycharm": {
     "name": "#%%\n"
    }
   },
   "outputs": [
    {
     "name": "stdout",
     "output_type": "stream",
     "text": [
      "<class 'pandas.core.frame.DataFrame'>\n",
      "RangeIndex: 147166 entries, 0 to 147165\n",
      "Data columns (total 28 columns):\n",
      " #   Column                        Non-Null Count   Dtype  \n",
      "---  ------                        --------------   -----  \n",
      " 0   name                          147166 non-null  object \n",
      " 1   city                          147166 non-null  object \n",
      " 2   street                        147166 non-null  object \n",
      " 3   favourite_genres              147166 non-null  object \n",
      " 4   user_id                       147166 non-null  int64  \n",
      " 5   year                          147166 non-null  object \n",
      " 6   month                         147166 non-null  object \n",
      " 7   number_of_advertisements      147166 non-null  int64  \n",
      " 8   number_of_skips               147166 non-null  int64  \n",
      " 9   number_of_likes               147166 non-null  int64  \n",
      " 10  total_tracks_duration_ms      147165 non-null  float64\n",
      " 11  number_of_different_artists   147165 non-null  float64\n",
      " 12  average_release_date          147164 non-null  float64\n",
      " 13  average_duration_ms           147165 non-null  float64\n",
      " 14  explicit_tracks_ratio         147165 non-null  float64\n",
      " 15  average_popularity            147165 non-null  float64\n",
      " 16  average_acousticness          147165 non-null  float64\n",
      " 17  average_danceability          147165 non-null  float64\n",
      " 18  average_energy                147165 non-null  float64\n",
      " 19  average_instrumentalness      147165 non-null  float64\n",
      " 20  average_liveness              147165 non-null  float64\n",
      " 21  average_loudness              147165 non-null  float64\n",
      " 22  average_speechiness           147165 non-null  float64\n",
      " 23  average_tempo                 147165 non-null  float64\n",
      " 24  average_valence               147165 non-null  float64\n",
      " 25  premium_purchased             147166 non-null  int64  \n",
      " 26  premium_purchased_this_month  147166 non-null  int64  \n",
      " 27  premium_purchased_next_month  147166 non-null  int64  \n",
      "dtypes: float64(15), int64(7), object(6)\n",
      "memory usage: 31.4+ MB\n"
     ]
    }
   ],
   "source": [
    "data.info()"
   ]
  },
  {
   "cell_type": "code",
   "execution_count": 15,
   "metadata": {},
   "outputs": [
    {
     "data": {
      "text/html": [
       "<div>\n",
       "<style scoped>\n",
       "    .dataframe tbody tr th:only-of-type {\n",
       "        vertical-align: middle;\n",
       "    }\n",
       "\n",
       "    .dataframe tbody tr th {\n",
       "        vertical-align: top;\n",
       "    }\n",
       "\n",
       "    .dataframe thead th {\n",
       "        text-align: right;\n",
       "    }\n",
       "</style>\n",
       "<table border=\"1\" class=\"dataframe\">\n",
       "  <thead>\n",
       "    <tr style=\"text-align: right;\">\n",
       "      <th></th>\n",
       "      <th>year</th>\n",
       "      <th>count(*)</th>\n",
       "    </tr>\n",
       "  </thead>\n",
       "  <tbody>\n",
       "    <tr>\n",
       "      <th>0</th>\n",
       "      <td>2023</td>\n",
       "      <td>10148165</td>\n",
       "    </tr>\n",
       "  </tbody>\n",
       "</table>\n",
       "</div>"
      ],
      "text/plain": [
       "   year  count(*)\n",
       "0  2023  10148165"
      ]
     },
     "execution_count": 15,
     "metadata": {},
     "output_type": "execute_result"
    }
   ],
   "source": [
    "import sqlite3\n",
    "import pandas as pd\n",
    "query = '''\n",
    "SElect         strftime('%Y', timestamp ) AS year, count(*)  from sessions group by year;\n",
    "'''\n",
    "conn = sqlite3.connect('database.db')\n",
    "data = pd.read_sql(query, conn)\n",
    "conn.close()\n",
    "data.head(50)"
   ]
  },
  {
   "cell_type": "code",
   "execution_count": 24,
   "metadata": {
    "collapsed": false,
    "pycharm": {
     "name": "#%%\n"
    }
   },
   "outputs": [],
   "source": [
    "data.to_csv('../data/final_dataset.csv', index=False)"
   ]
  },
  {
   "cell_type": "code",
   "execution_count": null,
   "metadata": {},
   "outputs": [],
   "source": []
  }
 ],
 "metadata": {
  "kernelspec": {
   "display_name": "Python 3 (ipykernel)",
   "language": "python",
   "name": "python3"
  },
  "language_info": {
   "codemirror_mode": {
    "name": "ipython",
    "version": 3
   },
   "file_extension": ".py",
   "mimetype": "text/x-python",
   "name": "python",
   "nbconvert_exporter": "python",
   "pygments_lexer": "ipython3",
   "version": "3.10.12"
  }
 },
 "nbformat": 4,
 "nbformat_minor": 4
}
